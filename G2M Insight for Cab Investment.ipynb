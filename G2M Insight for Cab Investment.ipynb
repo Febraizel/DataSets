{
 "cells": [
  {
   "cell_type": "code",
   "execution_count": 2,
   "metadata": {},
   "outputs": [
    {
     "name": "stdout",
     "output_type": "stream",
     "text": [
      "Setup done\n"
     ]
    }
   ],
   "source": [
    "#importing all csv files through pandas\n",
    "import pandas as pd\n",
    "\n",
    "cab_data = pd.read_csv(\"Cab_Data.csv\")\n",
    "city = pd.read_csv(\"City.csv\")\n",
    "CustID = pd.read_csv(\"Customer_ID.csv\")\n",
    "TransID = pd.read_csv(\"Transaction_ID.csv\")\n",
    "print(\"Setup done\")"
   ]
  },
  {
   "cell_type": "code",
   "execution_count": 5,
   "metadata": {},
   "outputs": [
    {
     "name": "stdout",
     "output_type": "stream",
     "text": [
      "Index(['Transaction ID', 'Date of Travel', 'Company', 'City', 'KM Travelled',\n",
      "       'Price Charged', 'Cost of Trip'],\n",
      "      dtype='object')\n",
      "Index(['City', 'Population', 'Users'], dtype='object')\n",
      "Index(['Customer ID', 'Gender', 'Age', 'Income (USD/Month)'], dtype='object')\n",
      "Index(['Transaction ID', 'Customer ID', 'Payment_Mode'], dtype='object')\n"
     ]
    }
   ],
   "source": [
    "print(cab_data.columns)\n",
    "print(city.columns)\n",
    "print(CustID.columns)\n",
    "print(TransID.columns)"
   ]
  },
  {
   "cell_type": "code",
   "execution_count": 17,
   "metadata": {},
   "outputs": [
    {
     "data": {
      "text/plain": [
       "Index(['Transaction ID', 'Date of Travel', 'Company', 'City', 'KM Travelled',\n",
       "       'Price Charged', 'Cost of Trip', 'Customer ID', 'Payment_Mode'],\n",
       "      dtype='object')"
      ]
     },
     "execution_count": 17,
     "metadata": {},
     "output_type": "execute_result"
    }
   ],
   "source": [
    "cab_transleft = pd.merge(left = cab_data, right = TransID, left_on= 'Transaction ID', right_on= 'Transaction ID', how = 'left')\n",
    "#join cab_data and transaction_ID\n",
    "#print(\"There are {0:,} rows and {1:,} columns.\".format(cab_transleft.shape))"
   ]
  }
 ],
 "metadata": {
  "interpreter": {
   "hash": "f97cc2921e932d4e77516f66ac057aeeb8e7445ff89e06e3a69392a407dd3979"
  },
  "kernelspec": {
   "display_name": "Python 3.9.7 64-bit",
   "language": "python",
   "name": "python3"
  },
  "language_info": {
   "codemirror_mode": {
    "name": "ipython",
    "version": 3
   },
   "file_extension": ".py",
   "mimetype": "text/x-python",
   "name": "python",
   "nbconvert_exporter": "python",
   "pygments_lexer": "ipython3",
   "version": "3.9.7"
  },
  "orig_nbformat": 4
 },
 "nbformat": 4,
 "nbformat_minor": 2
}
